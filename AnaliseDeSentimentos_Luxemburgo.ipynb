{
 "cells": [
  {
   "cell_type": "markdown",
   "metadata": {},
   "source": [
    "# Importando o pacote Tweepy\n",
    "\n",
    "### Necessário ter todos pacote instalados e importado no script \n",
    "\n",
    "Vamos importar os pacote que precisaremos usar nessa aplicação: TextBlob, Tweepy e NumPy."
   ]
  },
  {
   "cell_type": "markdown",
   "metadata": {},
   "source": [
    "Credencias para utilização da API do Twitter \n",
    "\n",
    "Caso não tenha acesse e solicite uma conta para estudo : https://developer.twitter.com/"
   ]
  },
  {
   "cell_type": "code",
   "execution_count": 1,
   "metadata": {},
   "outputs": [],
   "source": [
    "# Importando o pacote \n",
    "\n",
    "import tweepy"
   ]
  },
  {
   "cell_type": "code",
   "execution_count": 2,
   "metadata": {},
   "outputs": [],
   "source": [
    "# Credenciais para utilização da API do Twitter\n",
    "\n",
    "consumer_key = \" \"\n",
    "consumer_secret = \"\"\n",
    "acess_token = \"\"\n",
    "acess_token_secret = \"\""
   ]
  },
  {
   "cell_type": "markdown",
   "metadata": {},
   "source": [
    "Autenticando na API com suas credenciais."
   ]
  },
  {
   "cell_type": "code",
   "execution_count": 3,
   "metadata": {},
   "outputs": [],
   "source": [
    "auth = tweepy.OAuthHandler(consumer_key, consumer_secret)\n",
    "auth.set_access_token(acess_token, acess_token_secret)\n",
    "token = tweepy.API(auth)"
   ]
  },
  {
   "cell_type": "markdown",
   "metadata": {},
   "source": [
    "## Buscar Tweet por uma palavra chave ou hashtag"
   ]
  },
  {
   "cell_type": "code",
   "execution_count": 4,
   "metadata": {},
   "outputs": [],
   "source": [
    "# Defina a palavra ou hashtag que deseja pesquisar os tweets\n",
    "# Por exemplo 'Palmeiras'\n",
    "\n",
    "keyword = ('Vanderlei Luxemburgo OR Luxemburgo ')"
   ]
  },
  {
   "cell_type": "code",
   "execution_count": 5,
   "metadata": {},
   "outputs": [],
   "source": [
    "# Fazer a busca por palavra chave\n",
    "# result_type --> recent, para buscar os tweets mais recentes\n",
    "# tweets --> variável que irá armazenar todos os tweets com a palavra escolhida na função search da API\n",
    "\n",
    "tweets = token.search(q=keyword, count=100, result_type='recent', Lang='pt')\n"
   ]
  },
  {
   "cell_type": "code",
   "execution_count": 6,
   "metadata": {},
   "outputs": [
    {
     "name": "stdout",
     "output_type": "stream",
     "text": [
      "Total de tweets coletados 100.\n"
     ]
    }
   ],
   "source": [
    "# Podemos ver o total de tweets coletados com a função len()\n",
    "print(\"Total de tweets coletados %s.\" %(len(tweets)))"
   ]
  },
  {
   "cell_type": "code",
   "execution_count": 7,
   "metadata": {},
   "outputs": [
    {
     "name": "stdout",
     "output_type": "stream",
     "text": [
      "Usuário: {'JubVasconcelos'}\n",
      "Tweet: {'RT @tossiro: Aumentou muito a pressão (interna e pública) sobre Vanderlei Luxemburgo no Palmeiras. A diretoria considera o técnico importan…'}\n",
      "Usuário: {'sinistrodibres'}\n",
      "Tweet: {'Palmeiras acerta a contratação de Heinz para o lugar de Vanderlei Luxemburgo.\\n\\nEntenda: https://t.co/vi2S6OiMkh'}\n",
      "Usuário: {'rodriguesleo1'}\n",
      "Tweet: {'RT @bandsports: \"Faltam ideias a Vanderlei Luxemburgo\", diz Elia Jr. No programa #PrimeiroTempo desta quinta-feira, @EliaJunior  comentou o…'}\n",
      "Usuário: {'Clebermachado__'}\n",
      "Tweet: {'Falei semanas atrás que a dança das cadeiras seria frenética neste Brasileirão. Torcida do Botafogo e Palmeiras per… https://t.co/UmY7NT9NEl'}\n",
      "Usuário: {'EliaJunior'}\n",
      "Tweet: {'RT @bandsports: \"Faltam ideias a Vanderlei Luxemburgo\", diz Elia Jr. No programa #PrimeiroTempo desta quinta-feira, @EliaJunior  comentou o…'}\n",
      "Usuário: {'William70611625'}\n",
      "Tweet: {'RT @felipezito: Galvão, sobre o Palmeiras: \"Demitir o Vanderlei Luxemburgo me parece um absurdo\" | seleção sportv | ge https://t.co/dYj0zc0…'}\n",
      "Usuário: {'LuizHFiani'}\n",
      "Tweet: {'Atenção! Detalhes da reunião na SEP:\\n09:58 - Galliote: Vanderlei, estamos revalidando seu trabalho, precisa melhora… https://t.co/rd1WCfEJNN'}\n",
      "Usuário: {'gabsrossetti'}\n",
      "Tweet: {'RT @calilcomc: Sou e sempre serei contra o árbitro de vídeo no futebol, em qualquer jogo, de qualquer time. Duro foi ouvir Vanderlei Luxemb…'}\n",
      "Usuário: {'davidSEP1991'}\n",
      "Tweet: {'RT @Jonathan_Anjos_: Você é a favor da demissão do técnico Vanderlei Luxemburgo?\\n\\nJoga o #RT'}\n",
      "Usuário: {'Luizin_diaas'}\n",
      "Tweet: {'RT @futebol_info: Diretoria do Palmeiras não discute a saída de Vanderlei Luxemburgo no momento. As cobranças internas estão mais focadas n…'}\n",
      "Usuário: {'facunhasantana'}\n",
      "Tweet: {'RT @leoffmiranda: O trabalho de Vanderlei Luxemburgo no Palmeiras não é bom.\\n\\nE não é por falta de resultado! O problema é o desempenho. A…'}\n",
      "Usuário: {'paulorcviana'}\n",
      "Tweet: {'RT @radiobandnewsfm: A pressão aumentou no Palmeiras após o empate com o Internacional por 1 a 1. Torcedores pediram a saída do técnico Van…'}\n",
      "Usuário: {'tulhinhuw'}\n",
      "Tweet: {'RT @leoffmiranda: O trabalho de Vanderlei Luxemburgo no Palmeiras não é bom.\\n\\nE não é por falta de resultado! O problema é o desempenho. A…'}\n",
      "Usuário: {'leoffmiranda'}\n",
      "Tweet: {'O trabalho de Vanderlei Luxemburgo no Palmeiras não é bom.\\n\\nE não é por falta de resultado! O problema é o desempen… https://t.co/JEsg7sU195'}\n",
      "Usuário: {'GustavoSEPBr'}\n",
      "Tweet: {'RT @Rodrigo_SEP1914: Atenção! Detalhes da reunião na SEP:\\n09:58 - Galliote: Vanderlei, estamos revalidando seu trabalho, precisa melhorar\\n0…'}\n",
      "Usuário: {'MTuchapski'}\n",
      "Tweet: {'RT @leosuzuki_: O uso de jogadores vindos da base no time principal é um dos últimos (e únicos) elogios ainda feitos ao trabalho de Vanderl…'}\n",
      "Usuário: {'radiobandnewsfm'}\n",
      "Tweet: {'A pressão aumentou no Palmeiras após o empate com o Internacional por 1 a 1. Torcedores pediram a saída do técnico… https://t.co/29V0y7aHp0'}\n",
      "Usuário: {'Beatlemaniaco18'}\n",
      "Tweet: {'RT @leosuzuki_: O uso de jogadores vindos da base no time principal é um dos últimos (e únicos) elogios ainda feitos ao trabalho de Vanderl…'}\n",
      "Usuário: {'EderVandoFLA10'}\n",
      "Tweet: {'RT @ochicoefoda: Imprensa AFIRMOU que Domenec Torrent \"perderia vestiário\" ao tentar implantar seu estilo de jogo aos \"cascudos\" que o Flam…'}\n",
      "Usuário: {'CarlosA28895635'}\n",
      "Tweet: {'RT @Jonathan_Anjos_: Você é a favor da demissão do técnico Vanderlei Luxemburgo?\\n\\nJoga o #RT'}\n",
      "Usuário: {'SusanaVicc'}\n",
      "Tweet: {'RT @ESPNUruguay: Vanderlei Luxemburgo sustituyó a Matías Viña en el minuto 70; el uruguayo se molestó por la variante y discutió con su téc…'}\n",
      "Usuário: {'ochicoefoda'}\n",
      "Tweet: {'RT @ochicoefoda: Imprensa AFIRMOU que Domenec Torrent \"perderia vestiário\" ao tentar implantar seu estilo de jogo aos \"cascudos\" que o Flam…'}\n",
      "Usuário: {'LucasKomagai'}\n",
      "Tweet: {'RT @CavalinhoRBB: Maurício Barbieri foi apresentado e prepara o time contra o Palmeiras pelo @Brasileirao. Jogo que terá suspense: Estréia…'}\n",
      "Usuário: {'rwbronegro'}\n",
      "Tweet: {'RT @futebol_info: Diretoria do Palmeiras não discute a saída de Vanderlei Luxemburgo no momento. As cobranças internas estão mais focadas n…'}\n",
      "Usuário: {'CazzoPalmeiras'}\n",
      "Tweet: {'RT @jozanovalis: Miguél Ángel Ramírez já é um dos DTs mais especulados no futebol brasileiro; esteve cotado para assumir o Palmeiras, que p…'}\n",
      "Usuário: {'jmfouz'}\n",
      "Tweet: {'RT @leosuzuki_: O uso de jogadores vindos da base no time principal é um dos últimos (e únicos) elogios ainda feitos ao trabalho de Vanderl…'}\n",
      "Usuário: {'HalfAntonio'}\n",
      "Tweet: {'RT @onossopalestra: Ainda enfurecida com o desempenho do Palmeiras, a torcida alviverde começou uma campanha virtual pela demissão de Vande…'}\n",
      "Usuário: {'Gioino'}\n",
      "Tweet: {'RT @Rodrigo_SEP1914: Atenção! Detalhes da reunião na SEP:\\n09:58 - Galliote: Vanderlei, estamos revalidando seu trabalho, precisa melhorar\\n0…'}\n",
      "Usuário: {'ESPNUruguay'}\n",
      "Tweet: {'Vanderlei Luxemburgo sustituyó a Matías Viña en el minuto 70; el uruguayo se molestó por la variante y discutió con… https://t.co/IaanwSEX1F'}\n",
      "Usuário: {'Enviadodosceus'}\n",
      "Tweet: {'RT @PaImeras: Vanderlei Luxemburgo não é mais técnico do Palmeiras ➤ https://t.co/WIihNcKFac \\n\\n#AvantiPalestra https://t.co/nqB59J7VAO'}\n",
      "Usuário: {'pietrozapparoli'}\n",
      "Tweet: {'RT @leosuzuki_: O uso de jogadores vindos da base no time principal é um dos últimos (e únicos) elogios ainda feitos ao trabalho de Vanderl…'}\n",
      "Usuário: {'GiovannafrancaL'}\n",
      "Tweet: {'RT @Rodrigo_SEP1914: Atenção! Detalhes da reunião na SEP:\\n09:58 - Galliote: Vanderlei, estamos revalidando seu trabalho, precisa melhorar\\n0…'}\n",
      "Usuário: {'RondonSouza'}\n",
      "Tweet: {'RT @PedroMarques21: Atenção: Uma reunião na tarde desta quinta-feira pode definir o futuro do técnico Vanderlei Luxemburgo'}\n",
      "Usuário: {'calazanswallace'}\n",
      "Tweet: {'RT @futebol_info: Diretoria do Palmeiras não discute a saída de Vanderlei Luxemburgo no momento. As cobranças internas estão mais focadas n…'}\n",
      "Usuário: {'phcoostta'}\n",
      "Tweet: {'RT @RubroNegro_CRF7: @UOLEsporte Todos nós sabemos disso. O Pofexô Vanderlei Luxemburgo precisa de mais tempo. Uns 3, 4 anos, p colocar o P…'}\n",
      "Usuário: {'MuriloRibeiroA'}\n",
      "Tweet: {'@othiagoventura É verdade Eu principalmente estou com ódio do Bruno Henrique, Gustavo scarpa, Zé Rafael, Rafael vei… https://t.co/pzTEJIfOfV'}\n",
      "Usuário: {'Tiago_TioDECA'}\n",
      "Tweet: {'RT @Parmalattos: Incrível como nenhum protesto da Mancha Verde tem algo contra o Vanderlei Luxemburgo, alguém saberia explicar o motivo? El…'}\n",
      "Usuário: {'Tiago_TioDECA'}\n",
      "Tweet: {'RT @palmeirasptd: \"O PTD entende que a saída de Luxemburgo seria apenas o primeiro passo para o Palmeiras tentar ambicionar coisas maiores…'}\n",
      "Usuário: {'_MarciaSEP'}\n",
      "Tweet: {'RT @Rodrigo_SEP1914: Atenção! Detalhes da reunião na SEP:\\n09:58 - Galliote: Vanderlei, estamos revalidando seu trabalho, precisa melhorar\\n0…'}\n",
      "Usuário: {'RondonSouza'}\n",
      "Tweet: {'RT @tossiro: Aumentou muito a pressão (interna e pública) sobre Vanderlei Luxemburgo no Palmeiras. A diretoria considera o técnico importan…'}\n",
      "Usuário: {'rissardijr'}\n",
      "Tweet: {'@Manchista1914 Mano, da uma lida aí para ver se concorda, acabei de escrever \\n\\nhttps://t.co/D730Bwfore'}\n",
      "Usuário: {'LucasKomagai'}\n",
      "Tweet: {'RT @adonfire: @VerdaoMVVC Fraco Zé, Luxalixo é um treinador ultrapassado, o Vanderlei Luxemburgo não serve nem para comandar um time de cas…'}\n",
      "Usuário: {'lucashmorenghi'}\n",
      "Tweet: {'RT @onossopalestra: Ainda enfurecida com o desempenho do Palmeiras, a torcida alviverde começou uma campanha virtual pela demissão de Vande…'}\n",
      "Usuário: {'rissardijr'}\n",
      "Tweet: {'@Geguarino @GelmiresCastro @PacoB0800 @Amici1914 @brunomassa @brunera1914 Caso vocês possam dar uma lida, eu curto… https://t.co/gBMKFylOBZ'}\n",
      "Usuário: {'TambosiEduardo'}\n",
      "Tweet: {'RT @futebol_info: Diretoria do Palmeiras não discute a saída de Vanderlei Luxemburgo no momento. As cobranças internas estão mais focadas n…'}\n",
      "Usuário: {'PORCOCAXIAS'}\n",
      "Tweet: {'RT @leosuzuki_: O uso de jogadores vindos da base no time principal é um dos últimos (e únicos) elogios ainda feitos ao trabalho de Vanderl…'}\n",
      "Usuário: {'PorcoNet1'}\n",
      "Tweet: {'A demissão do treinador Vanderlei Luxemburgo é a solução para o Palmeiras? Qual a alternativa?'}\n",
      "Usuário: {'renatomusa'}\n",
      "Tweet: {'@PVC o @palmeiras tem 20 meias que nao prestam e troca o Dudu pelo Ruiny. Nem trazendo o Messi. \\n\\nhttps://t.co/8C7ZX5GDcd'}\n",
      "Usuário: {'RondonSouza'}\n",
      "Tweet: {'RT @sepmemes_: \"AUMENTA PRESSÃO SOBRE O LUXEMBURGO\"\\n\\nE AS NOTÍCIAS QUE SAEM É \"GALIOTTE SEGURA VANDERLEI LUXEMBURGO NO CARGO\"\\n\\nCHUPA MAIS Q…'}\n",
      "Usuário: {'AndEstrino'}\n",
      "Tweet: {'RT @Rodrigo_SEP1914: Atenção! Detalhes da reunião na SEP:\\n09:58 - Galliote: Vanderlei, estamos revalidando seu trabalho, precisa melhorar\\n0…'}\n",
      "Usuário: {'CaeMuniz'}\n",
      "Tweet: {'RT @onossopalestra: Ainda enfurecida com o desempenho do Palmeiras, a torcida alviverde começou uma campanha virtual pela demissão de Vande…'}\n",
      "Usuário: {'rissardijr'}\n",
      "Tweet: {'@Tulmag\\n@PalestraTedesco\\n@ParmeraDeTodos\\n\\nMinha opinião, se quiserem dar uma olhada \\n\\nhttps://t.co/D730Bwfore'}\n",
      "Usuário: {'rissardijr'}\n",
      "Tweet: {'@LeoFontes105 Minha opinião:\\nhttps://t.co/D730Bwfore'}\n",
      "Usuário: {'IsaiiasD'}\n",
      "Tweet: {'RT @leosuzuki_: O uso de jogadores vindos da base no time principal é um dos últimos (e únicos) elogios ainda feitos ao trabalho de Vanderl…'}\n",
      "Usuário: {'ElSequeira'}\n",
      "Tweet: {'RT @FoxSportsBrasil: Mesmo invicto no campeonato, os muros do Allianz Parque amanheceram pichados. A torcida não gostou nada do empate cont…'}\n",
      "Usuário: {'Tiago_TioDECA'}\n",
      "Tweet: {'RT @tossiro: Aumentou muito a pressão (interna e pública) sobre Vanderlei Luxemburgo no Palmeiras. A diretoria considera o técnico importan…'}\n",
      "Usuário: {'henriquediazzz'}\n",
      "Tweet: {'RT @diario1914: Atualidade: Vanderlei Luxemburgo\\n\\nExpectativa: Miguel Angel Ramirez\\n\\nRealidade: Dorival Jr'}\n",
      "Usuário: {'BalvediLuiz'}\n",
      "Tweet: {'@lpconselheira volta Paulo Nobre volta pelo Nobre volta pelo 9 mil vezes volta para o Nobre fora vocês fora vocês t… https://t.co/ZZLajDP3Al'}\n",
      "Usuário: {'beatriz_brainer'}\n",
      "Tweet: {'RT @PedroMarques21: Atenção: Uma reunião na tarde desta quinta-feira pode definir o futuro do técnico Vanderlei Luxemburgo'}\n",
      "Usuário: {'oliveirasep_'}\n",
      "Tweet: {'RT @Rodrigo_SEP1914: Atenção! Detalhes da reunião na SEP:\\n09:58 - Galliote: Vanderlei, estamos revalidando seu trabalho, precisa melhorar\\n0…'}\n",
      "Usuário: {'Thiaguih94'}\n",
      "Tweet: {'RT @Rodrigo_SEP1914: Atenção! Detalhes da reunião na SEP:\\n09:58 - Galliote: Vanderlei, estamos revalidando seu trabalho, precisa melhorar\\n0…'}\n",
      "Usuário: {'rodstola'}\n",
      "Tweet: {'RT @leosuzuki_: O uso de jogadores vindos da base no time principal é um dos últimos (e únicos) elogios ainda feitos ao trabalho de Vanderl…'}\n",
      "Usuário: {'sepalmeirxs'}\n",
      "Tweet: {'RT @leosuzuki_: O uso de jogadores vindos da base no time principal é um dos últimos (e únicos) elogios ainda feitos ao trabalho de Vanderl…'}\n",
      "Usuário: {'LeoFontes105'}\n",
      "Tweet: {'Quem conhece a história do Vanderlei Luxemburgo sabe que esse time não é dele. É do Maurício Copertino. Essas ideia… https://t.co/rvNPqlkeic'}\n",
      "Usuário: {'moraessjr'}\n",
      "Tweet: {'RT @diario1914: Atualidade: Vanderlei Luxemburgo\\n\\nExpectativa: Miguel Angel Ramirez\\n\\nRealidade: Dorival Jr'}\n",
      "Usuário: {'EcraSEP2'}\n",
      "Tweet: {'RT @onossopalestra: Ainda enfurecida com o desempenho do Palmeiras, a torcida alviverde começou uma campanha virtual pela demissão de Vande…'}\n",
      "Usuário: {'oliveirasep_'}\n",
      "Tweet: {'18:16 e o @Palmeiras não demitiu o Vanderlei Luxemburgo'}\n",
      "Usuário: {'JairoRibeiro91'}\n",
      "Tweet: {'RT @Palmeiras: NOTA OFICIAL: Vanderlei Luxemburgo não é mais técnico do Palmeiras. Confira: http://bit.ly/Q1wis'}\n",
      "Usuário: {'JairoAlmeidaFi2'}\n",
      "Tweet: {'#NaVeiaDeCasa Boa noite @williamespn,@zeelias05,@gianoddi,Djalminha e @fabiosormani2! Como diria o outro: \"Quem viv… https://t.co/8DCksOG24N'}\n",
      "Usuário: {'LusGonalvesdeb4'}\n",
      "Tweet: {'@PaImeras errado Vanderlei Luxemburgo não é mais TEC e faz tempo kkkk 😡.'}\n",
      "Usuário: {'kinglamas77'}\n",
      "Tweet: {'@Palmeiras Eu deveria denunciar por fake news, Palmeiras nunca treinou sobre o comando de Vanderlei Luxemburgo'}\n",
      "Usuário: {'lleo_Ramos'}\n",
      "Tweet: {'RT @Rodrigo_SEP1914: Atenção! Detalhes da reunião na SEP:\\n09:58 - Galliote: Vanderlei, estamos revalidando seu trabalho, precisa melhorar\\n0…'}\n",
      "Usuário: {'janainamoura93'}\n",
      "Tweet: {'RT @Jonathan_Anjos_: Você é a favor da demissão do técnico Vanderlei Luxemburgo?\\n\\nJoga o #RT'}\n",
      "Usuário: {'Walisonsribeiro'}\n",
      "Tweet: {'RT @futebol_info: Diretoria do Palmeiras não discute a saída de Vanderlei Luxemburgo no momento. As cobranças internas estão mais focadas n…'}\n",
      "Usuário: {'CIDOSOUZA8'}\n",
      "Tweet: {'RT @leosuzuki_: O uso de jogadores vindos da base no time principal é um dos últimos (e únicos) elogios ainda feitos ao trabalho de Vanderl…'}\n",
      "Usuário: {'CIDOSOUZA8'}\n",
      "Tweet: {'RT @CavalinhoRBB: Maurício Barbieri foi apresentado e prepara o time contra o Palmeiras pelo @Brasileirao. Jogo que terá suspense: Estréia…'}\n",
      "Usuário: {'timao13579'}\n",
      "Tweet: {'RT @FoxSportsBrasil: Mesmo invicto no campeonato, os muros do Allianz Parque amanheceram pichados. A torcida não gostou nada do empate cont…'}\n",
      "Usuário: {'Vitttinho'}\n",
      "Tweet: {'@CesarFilho Vanderlei Luxemburgo'}\n",
      "Usuário: {'hendysep'}\n",
      "Tweet: {'RT @Palmeiras: NOTA OFICIAL: Vanderlei Luxemburgo não é mais técnico do Palmeiras. Confira: http://bit.ly/Q1wis'}\n",
      "Usuário: {'Cordeiro_oficia'}\n",
      "Tweet: {'RT @FoxSportsBrasil: Mesmo invicto no campeonato, os muros do Allianz Parque amanheceram pichados. A torcida não gostou nada do empate cont…'}\n",
      "Usuário: {'Armada_TFM'}\n",
      "Tweet: {'RT @FoxSportsBrasil: Mesmo invicto no campeonato, os muros do Allianz Parque amanheceram pichados. A torcida não gostou nada do empate cont…'}\n",
      "Usuário: {'lenhagui'}\n",
      "Tweet: {'RT @FoxSportsBrasil: Mesmo invicto no campeonato, os muros do Allianz Parque amanheceram pichados. A torcida não gostou nada do empate cont…'}\n",
      "Usuário: {'FoxSportsBrasil'}\n",
      "Tweet: {'Mesmo invicto no campeonato, os muros do Allianz Parque amanheceram pichados. A torcida não gostou nada do empate c… https://t.co/Z38Aprt5Rr'}\n",
      "Usuário: {'haltsin1'}\n",
      "Tweet: {'RT @leosuzuki_: O uso de jogadores vindos da base no time principal é um dos últimos (e únicos) elogios ainda feitos ao trabalho de Vanderl…'}\n",
      "Usuário: {'avcnarrador'}\n",
      "Tweet: {'RT @onossopalestra: Galvão Bueno defendeu a permanência de Vanderlei Luxemburgo como técnico do Palmeiras, criticou a possibilidade de demi…'}\n",
      "Usuário: {'VOLTADOESLEY'}\n",
      "Tweet: {'RT @Rodrigo_SEP1914: Atenção! Detalhes da reunião na SEP:\\n09:58 - Galliote: Vanderlei, estamos revalidando seu trabalho, precisa melhorar\\n0…'}\n",
      "Usuário: {'RonaldGimenez'}\n",
      "Tweet: {'A brodagem em primeiro lugar...  Ah, mas se fosse o Flamídia, talvez pensasse diferente.\\n\\nGalvão, sobre o Palmeiras… https://t.co/FG8lbNEfYG'}\n",
      "Usuário: {'hijodeputa06'}\n",
      "Tweet: {'RT @tossiro: Aumentou muito a pressão (interna e pública) sobre Vanderlei Luxemburgo no Palmeiras. A diretoria considera o técnico importan…'}\n",
      "Usuário: {'tozetto_ricardo'}\n",
      "Tweet: {'RT @Jonathan_Anjos_: Você é a favor da demissão do técnico Vanderlei Luxemburgo?\\n\\nJoga o #RT'}\n",
      "Usuário: {'brunovictormoro'}\n",
      "Tweet: {'RT @Jonathan_Anjos_: Você é a favor da demissão do técnico Vanderlei Luxemburgo?\\n\\nJoga o #RT'}\n",
      "Usuário: {'srpeg'}\n",
      "Tweet: {'RT @PaImeras: Vanderlei Luxemburgo não é mais técnico do Palmeiras ➤ https://t.co/WIihNcKFac \\n\\n#AvantiPalestra https://t.co/nqB59J7VAO'}\n",
      "Usuário: {'nicolas_1914sep'}\n",
      "Tweet: {'RT @Jonathan_Anjos_: Você é a favor da demissão do técnico Vanderlei Luxemburgo?\\n\\nJoga o #RT'}\n",
      "Usuário: {'FellipeArts'}\n",
      "Tweet: {'RT @Palmeiras: NOTA OFICIAL: Vanderlei Luxemburgo não é mais técnico do Palmeiras. Confira: http://bit.ly/Q1wis'}\n",
      "Usuário: {'felipeandersn'}\n",
      "Tweet: {'RT @leosuzuki_: O uso de jogadores vindos da base no time principal é um dos últimos (e únicos) elogios ainda feitos ao trabalho de Vanderl…'}\n",
      "Usuário: {'anavilorde'}\n",
      "Tweet: {'@Keniasfc @globoesportecom bom é o time do Santos que conseguiu perder pro Palmeiras do Vanderlei Luxemburgo'}\n",
      "Usuário: {'GusttaHellsing'}\n",
      "Tweet: {'RT @onossopalestra: Ainda enfurecida com o desempenho do Palmeiras, a torcida alviverde começou uma campanha virtual pela demissão de Vande…'}\n",
      "Usuário: {'LucasKomagai'}\n",
      "Tweet: {'RT @nelsonc1914: @Palmeiras Fora Maurício Galiotte! Fora Vanderlei Luxemburgo! Fora Maurício Galiotte! Fora Vanderlei Luxemburgo! Fora Maur…'}\n",
      "Usuário: {'Bismacker167'}\n",
      "Tweet: {'RT @Palmeiras: NOTA OFICIAL: Vanderlei Luxemburgo não é mais técnico do Palmeiras. Confira: http://bit.ly/Q1wis'}\n",
      "Usuário: {'GabrielSEP_1914'}\n",
      "Tweet: {'RT @Rodrigo_SEP1914: Atenção! Detalhes da reunião na SEP:\\n09:58 - Galliote: Vanderlei, estamos revalidando seu trabalho, precisa melhorar\\n0…'}\n",
      "Usuário: {'nercelso2012'}\n",
      "Tweet: {'RT @Jonathan_Anjos_: Você é a favor da demissão do técnico Vanderlei Luxemburgo?\\n\\nJoga o #RT'}\n"
     ]
    }
   ],
   "source": [
    "# Podemos mostrar o nome do usuário (screen_name) e o texto do tweet\n",
    "\n",
    "for tweet in tweets:\n",
    "    print(\"Usuário: %s\"% {tweet.user.screen_name})\n",
    "    print(\"Tweet: %s\"% {tweet.text})"
   ]
  },
  {
   "cell_type": "markdown",
   "metadata": {},
   "source": [
    "# Análise de polaridade\n",
    "\n",
    "Para fazer análise de polaridade, vamos usar a função sentiment.polarity do pacote TextBlob.\n",
    "\n",
    "* A função sentiment.polarity retonará um número entre -1 e 1, onde quanto maior esse número, a pessoa está mais de acordo com o que postou.\n",
    "\n",
    "Ou seja, quanto maior esse número mais posítivo é o tweet. Podemos ainda considerar que a polaridade 0 (zero) pode indicar uma neutarilidade do tweet."
   ]
  },
  {
   "cell_type": "code",
   "execution_count": 8,
   "metadata": {},
   "outputs": [],
   "source": [
    "# Importar pacotes\n",
    "from textblob import TextBlob as tb\n",
    "import numpy as np"
   ]
  },
  {
   "cell_type": "code",
   "execution_count": 9,
   "metadata": {},
   "outputs": [],
   "source": [
    "# Variável que irá armanezar as polaridades\n",
    "analysis = None"
   ]
  },
  {
   "cell_type": "code",
   "execution_count": 10,
   "metadata": {},
   "outputs": [],
   "source": [
    "# Criando uma lista\n",
    "tweets_score = []"
   ]
  },
  {
   "cell_type": "code",
   "execution_count": 11,
   "metadata": {},
   "outputs": [
    {
     "name": "stdout",
     "output_type": "stream",
     "text": [
      "** RT @tossiro: Aumentou muito a pressão (interna e pública) sobre Vanderlei Luxemburgo no Palmeiras. A diretoria considera o técnico importan…\n",
      "** Palmeiras acerta a contratação de Heinz para o lugar de Vanderlei Luxemburgo.\n",
      "\n",
      "Entenda: https://t.co/vi2S6OiMkh\n",
      "** RT @bandsports: \"Faltam ideias a Vanderlei Luxemburgo\", diz Elia Jr. No programa #PrimeiroTempo desta quinta-feira, @EliaJunior  comentou o…\n",
      "** Falei semanas atrás que a dança das cadeiras seria frenética neste Brasileirão. Torcida do Botafogo e Palmeiras per… https://t.co/UmY7NT9NEl\n",
      "** RT @bandsports: \"Faltam ideias a Vanderlei Luxemburgo\", diz Elia Jr. No programa #PrimeiroTempo desta quinta-feira, @EliaJunior  comentou o…\n",
      "** RT @felipezito: Galvão, sobre o Palmeiras: \"Demitir o Vanderlei Luxemburgo me parece um absurdo\" | seleção sportv | ge https://t.co/dYj0zc0…\n",
      "** Atenção! Detalhes da reunião na SEP:\n",
      "09:58 - Galliote: Vanderlei, estamos revalidando seu trabalho, precisa melhora… https://t.co/rd1WCfEJNN\n",
      "** RT @calilcomc: Sou e sempre serei contra o árbitro de vídeo no futebol, em qualquer jogo, de qualquer time. Duro foi ouvir Vanderlei Luxemb…\n",
      "** RT @Jonathan_Anjos_: Você é a favor da demissão do técnico Vanderlei Luxemburgo?\n",
      "\n",
      "Joga o #RT\n",
      "** RT @futebol_info: Diretoria do Palmeiras não discute a saída de Vanderlei Luxemburgo no momento. As cobranças internas estão mais focadas n…\n",
      "** RT @leoffmiranda: O trabalho de Vanderlei Luxemburgo no Palmeiras não é bom.\n",
      "\n",
      "E não é por falta de resultado! O problema é o desempenho. A…\n",
      "** RT @radiobandnewsfm: A pressão aumentou no Palmeiras após o empate com o Internacional por 1 a 1. Torcedores pediram a saída do técnico Van…\n",
      "** RT @leoffmiranda: O trabalho de Vanderlei Luxemburgo no Palmeiras não é bom.\n",
      "\n",
      "E não é por falta de resultado! O problema é o desempenho. A…\n",
      "** O trabalho de Vanderlei Luxemburgo no Palmeiras não é bom.\n",
      "\n",
      "E não é por falta de resultado! O problema é o desempen… https://t.co/JEsg7sU195\n",
      "** RT @Rodrigo_SEP1914: Atenção! Detalhes da reunião na SEP:\n",
      "09:58 - Galliote: Vanderlei, estamos revalidando seu trabalho, precisa melhorar\n",
      "0…\n",
      "** RT @leosuzuki_: O uso de jogadores vindos da base no time principal é um dos últimos (e únicos) elogios ainda feitos ao trabalho de Vanderl…\n",
      "** A pressão aumentou no Palmeiras após o empate com o Internacional por 1 a 1. Torcedores pediram a saída do técnico… https://t.co/29V0y7aHp0\n",
      "** RT @leosuzuki_: O uso de jogadores vindos da base no time principal é um dos últimos (e únicos) elogios ainda feitos ao trabalho de Vanderl…\n",
      "** RT @ochicoefoda: Imprensa AFIRMOU que Domenec Torrent \"perderia vestiário\" ao tentar implantar seu estilo de jogo aos \"cascudos\" que o Flam…\n",
      "** RT @Jonathan_Anjos_: Você é a favor da demissão do técnico Vanderlei Luxemburgo?\n",
      "\n",
      "Joga o #RT\n",
      "** RT @ESPNUruguay: Vanderlei Luxemburgo sustituyó a Matías Viña en el minuto 70; el uruguayo se molestó por la variante y discutió con su téc…\n",
      "** RT @ochicoefoda: Imprensa AFIRMOU que Domenec Torrent \"perderia vestiário\" ao tentar implantar seu estilo de jogo aos \"cascudos\" que o Flam…\n",
      "** RT @CavalinhoRBB: Maurício Barbieri foi apresentado e prepara o time contra o Palmeiras pelo @Brasileirao. Jogo que terá suspense: Estréia…\n",
      "** RT @futebol_info: Diretoria do Palmeiras não discute a saída de Vanderlei Luxemburgo no momento. As cobranças internas estão mais focadas n…\n",
      "** RT @jozanovalis: Miguél Ángel Ramírez já é um dos DTs mais especulados no futebol brasileiro; esteve cotado para assumir o Palmeiras, que p…\n",
      "** RT @leosuzuki_: O uso de jogadores vindos da base no time principal é um dos últimos (e únicos) elogios ainda feitos ao trabalho de Vanderl…\n",
      "** RT @onossopalestra: Ainda enfurecida com o desempenho do Palmeiras, a torcida alviverde começou uma campanha virtual pela demissão de Vande…\n",
      "** RT @Rodrigo_SEP1914: Atenção! Detalhes da reunião na SEP:\n",
      "09:58 - Galliote: Vanderlei, estamos revalidando seu trabalho, precisa melhorar\n",
      "0…\n",
      "** Vanderlei Luxemburgo sustituyó a Matías Viña en el minuto 70; el uruguayo se molestó por la variante y discutió con… https://t.co/IaanwSEX1F\n",
      "** RT @PaImeras: Vanderlei Luxemburgo não é mais técnico do Palmeiras ➤ https://t.co/WIihNcKFac \n",
      "\n",
      "#AvantiPalestra https://t.co/nqB59J7VAO\n",
      "** RT @leosuzuki_: O uso de jogadores vindos da base no time principal é um dos últimos (e únicos) elogios ainda feitos ao trabalho de Vanderl…\n",
      "** RT @Rodrigo_SEP1914: Atenção! Detalhes da reunião na SEP:\n",
      "09:58 - Galliote: Vanderlei, estamos revalidando seu trabalho, precisa melhorar\n",
      "0…\n",
      "** RT @PedroMarques21: Atenção: Uma reunião na tarde desta quinta-feira pode definir o futuro do técnico Vanderlei Luxemburgo\n",
      "** RT @futebol_info: Diretoria do Palmeiras não discute a saída de Vanderlei Luxemburgo no momento. As cobranças internas estão mais focadas n…\n",
      "** RT @RubroNegro_CRF7: @UOLEsporte Todos nós sabemos disso. O Pofexô Vanderlei Luxemburgo precisa de mais tempo. Uns 3, 4 anos, p colocar o P…\n",
      "** @othiagoventura É verdade Eu principalmente estou com ódio do Bruno Henrique, Gustavo scarpa, Zé Rafael, Rafael vei… https://t.co/pzTEJIfOfV\n",
      "** RT @Parmalattos: Incrível como nenhum protesto da Mancha Verde tem algo contra o Vanderlei Luxemburgo, alguém saberia explicar o motivo? El…\n",
      "** RT @palmeirasptd: \"O PTD entende que a saída de Luxemburgo seria apenas o primeiro passo para o Palmeiras tentar ambicionar coisas maiores…\n",
      "** RT @Rodrigo_SEP1914: Atenção! Detalhes da reunião na SEP:\n",
      "09:58 - Galliote: Vanderlei, estamos revalidando seu trabalho, precisa melhorar\n",
      "0…\n",
      "** RT @tossiro: Aumentou muito a pressão (interna e pública) sobre Vanderlei Luxemburgo no Palmeiras. A diretoria considera o técnico importan…\n",
      "** @Manchista1914 Mano, da uma lida aí para ver se concorda, acabei de escrever \n",
      "\n",
      "https://t.co/D730Bwfore\n",
      "** RT @adonfire: @VerdaoMVVC Fraco Zé, Luxalixo é um treinador ultrapassado, o Vanderlei Luxemburgo não serve nem para comandar um time de cas…\n",
      "** RT @onossopalestra: Ainda enfurecida com o desempenho do Palmeiras, a torcida alviverde começou uma campanha virtual pela demissão de Vande…\n",
      "** @Geguarino @GelmiresCastro @PacoB0800 @Amici1914 @brunomassa @brunera1914 Caso vocês possam dar uma lida, eu curto… https://t.co/gBMKFylOBZ\n",
      "** RT @futebol_info: Diretoria do Palmeiras não discute a saída de Vanderlei Luxemburgo no momento. As cobranças internas estão mais focadas n…\n",
      "** RT @leosuzuki_: O uso de jogadores vindos da base no time principal é um dos últimos (e únicos) elogios ainda feitos ao trabalho de Vanderl…\n",
      "** A demissão do treinador Vanderlei Luxemburgo é a solução para o Palmeiras? Qual a alternativa?\n",
      "** @PVC o @palmeiras tem 20 meias que nao prestam e troca o Dudu pelo Ruiny. Nem trazendo o Messi. \n",
      "\n",
      "https://t.co/8C7ZX5GDcd\n",
      "** RT @sepmemes_: \"AUMENTA PRESSÃO SOBRE O LUXEMBURGO\"\n",
      "\n",
      "E AS NOTÍCIAS QUE SAEM É \"GALIOTTE SEGURA VANDERLEI LUXEMBURGO NO CARGO\"\n",
      "\n",
      "CHUPA MAIS Q…\n",
      "** RT @Rodrigo_SEP1914: Atenção! Detalhes da reunião na SEP:\n",
      "09:58 - Galliote: Vanderlei, estamos revalidando seu trabalho, precisa melhorar\n",
      "0…\n",
      "** RT @onossopalestra: Ainda enfurecida com o desempenho do Palmeiras, a torcida alviverde começou uma campanha virtual pela demissão de Vande…\n",
      "** @Tulmag\n",
      "@PalestraTedesco\n",
      "@ParmeraDeTodos\n",
      "\n",
      "Minha opinião, se quiserem dar uma olhada \n",
      "\n",
      "https://t.co/D730Bwfore\n",
      "** @LeoFontes105 Minha opinião:\n",
      "https://t.co/D730Bwfore\n",
      "** RT @leosuzuki_: O uso de jogadores vindos da base no time principal é um dos últimos (e únicos) elogios ainda feitos ao trabalho de Vanderl…\n",
      "** RT @FoxSportsBrasil: Mesmo invicto no campeonato, os muros do Allianz Parque amanheceram pichados. A torcida não gostou nada do empate cont…\n",
      "** RT @tossiro: Aumentou muito a pressão (interna e pública) sobre Vanderlei Luxemburgo no Palmeiras. A diretoria considera o técnico importan…\n",
      "** RT @diario1914: Atualidade: Vanderlei Luxemburgo\n",
      "\n",
      "Expectativa: Miguel Angel Ramirez\n",
      "\n",
      "Realidade: Dorival Jr\n",
      "** @lpconselheira volta Paulo Nobre volta pelo Nobre volta pelo 9 mil vezes volta para o Nobre fora vocês fora vocês t… https://t.co/ZZLajDP3Al\n",
      "** RT @PedroMarques21: Atenção: Uma reunião na tarde desta quinta-feira pode definir o futuro do técnico Vanderlei Luxemburgo\n",
      "** RT @Rodrigo_SEP1914: Atenção! Detalhes da reunião na SEP:\n",
      "09:58 - Galliote: Vanderlei, estamos revalidando seu trabalho, precisa melhorar\n",
      "0…\n",
      "** RT @Rodrigo_SEP1914: Atenção! Detalhes da reunião na SEP:\n",
      "09:58 - Galliote: Vanderlei, estamos revalidando seu trabalho, precisa melhorar\n",
      "0…\n",
      "** RT @leosuzuki_: O uso de jogadores vindos da base no time principal é um dos últimos (e únicos) elogios ainda feitos ao trabalho de Vanderl…\n",
      "** RT @leosuzuki_: O uso de jogadores vindos da base no time principal é um dos últimos (e únicos) elogios ainda feitos ao trabalho de Vanderl…\n",
      "** Quem conhece a história do Vanderlei Luxemburgo sabe que esse time não é dele. É do Maurício Copertino. Essas ideia… https://t.co/rvNPqlkeic\n",
      "** RT @diario1914: Atualidade: Vanderlei Luxemburgo\n",
      "\n",
      "Expectativa: Miguel Angel Ramirez\n",
      "\n",
      "Realidade: Dorival Jr\n",
      "** RT @onossopalestra: Ainda enfurecida com o desempenho do Palmeiras, a torcida alviverde começou uma campanha virtual pela demissão de Vande…\n",
      "** 18:16 e o @Palmeiras não demitiu o Vanderlei Luxemburgo\n",
      "** RT @Palmeiras: NOTA OFICIAL: Vanderlei Luxemburgo não é mais técnico do Palmeiras. Confira: http://bit.ly/Q1wis\n",
      "** #NaVeiaDeCasa Boa noite @williamespn,@zeelias05,@gianoddi,Djalminha e @fabiosormani2! Como diria o outro: \"Quem viv… https://t.co/8DCksOG24N\n",
      "** @PaImeras errado Vanderlei Luxemburgo não é mais TEC e faz tempo kkkk 😡.\n",
      "** @Palmeiras Eu deveria denunciar por fake news, Palmeiras nunca treinou sobre o comando de Vanderlei Luxemburgo\n",
      "** RT @Rodrigo_SEP1914: Atenção! Detalhes da reunião na SEP:\n",
      "09:58 - Galliote: Vanderlei, estamos revalidando seu trabalho, precisa melhorar\n",
      "0…\n",
      "** RT @Jonathan_Anjos_: Você é a favor da demissão do técnico Vanderlei Luxemburgo?\n",
      "\n",
      "Joga o #RT\n",
      "** RT @futebol_info: Diretoria do Palmeiras não discute a saída de Vanderlei Luxemburgo no momento. As cobranças internas estão mais focadas n…\n",
      "** RT @leosuzuki_: O uso de jogadores vindos da base no time principal é um dos últimos (e únicos) elogios ainda feitos ao trabalho de Vanderl…\n",
      "** RT @CavalinhoRBB: Maurício Barbieri foi apresentado e prepara o time contra o Palmeiras pelo @Brasileirao. Jogo que terá suspense: Estréia…\n",
      "** RT @FoxSportsBrasil: Mesmo invicto no campeonato, os muros do Allianz Parque amanheceram pichados. A torcida não gostou nada do empate cont…\n",
      "** @CesarFilho Vanderlei Luxemburgo\n",
      "** RT @Palmeiras: NOTA OFICIAL: Vanderlei Luxemburgo não é mais técnico do Palmeiras. Confira: http://bit.ly/Q1wis\n",
      "** RT @FoxSportsBrasil: Mesmo invicto no campeonato, os muros do Allianz Parque amanheceram pichados. A torcida não gostou nada do empate cont…\n",
      "** RT @FoxSportsBrasil: Mesmo invicto no campeonato, os muros do Allianz Parque amanheceram pichados. A torcida não gostou nada do empate cont…\n",
      "** RT @FoxSportsBrasil: Mesmo invicto no campeonato, os muros do Allianz Parque amanheceram pichados. A torcida não gostou nada do empate cont…\n",
      "** Mesmo invicto no campeonato, os muros do Allianz Parque amanheceram pichados. A torcida não gostou nada do empate c… https://t.co/Z38Aprt5Rr\n",
      "** RT @leosuzuki_: O uso de jogadores vindos da base no time principal é um dos últimos (e únicos) elogios ainda feitos ao trabalho de Vanderl…\n",
      "** RT @onossopalestra: Galvão Bueno defendeu a permanência de Vanderlei Luxemburgo como técnico do Palmeiras, criticou a possibilidade de demi…\n",
      "** RT @Rodrigo_SEP1914: Atenção! Detalhes da reunião na SEP:\n",
      "09:58 - Galliote: Vanderlei, estamos revalidando seu trabalho, precisa melhorar\n",
      "0…\n",
      "** A brodagem em primeiro lugar...  Ah, mas se fosse o Flamídia, talvez pensasse diferente.\n",
      "\n",
      "Galvão, sobre o Palmeiras… https://t.co/FG8lbNEfYG\n",
      "** RT @tossiro: Aumentou muito a pressão (interna e pública) sobre Vanderlei Luxemburgo no Palmeiras. A diretoria considera o técnico importan…\n",
      "** RT @Jonathan_Anjos_: Você é a favor da demissão do técnico Vanderlei Luxemburgo?\n",
      "\n",
      "Joga o #RT\n",
      "** RT @Jonathan_Anjos_: Você é a favor da demissão do técnico Vanderlei Luxemburgo?\n",
      "\n",
      "Joga o #RT\n",
      "** RT @PaImeras: Vanderlei Luxemburgo não é mais técnico do Palmeiras ➤ https://t.co/WIihNcKFac \n",
      "\n",
      "#AvantiPalestra https://t.co/nqB59J7VAO\n",
      "** RT @Jonathan_Anjos_: Você é a favor da demissão do técnico Vanderlei Luxemburgo?\n",
      "\n",
      "Joga o #RT\n",
      "** RT @Palmeiras: NOTA OFICIAL: Vanderlei Luxemburgo não é mais técnico do Palmeiras. Confira: http://bit.ly/Q1wis\n",
      "** RT @leosuzuki_: O uso de jogadores vindos da base no time principal é um dos últimos (e únicos) elogios ainda feitos ao trabalho de Vanderl…\n",
      "** @Keniasfc @globoesportecom bom é o time do Santos que conseguiu perder pro Palmeiras do Vanderlei Luxemburgo\n",
      "** RT @onossopalestra: Ainda enfurecida com o desempenho do Palmeiras, a torcida alviverde começou uma campanha virtual pela demissão de Vande…\n",
      "** RT @nelsonc1914: @Palmeiras Fora Maurício Galiotte! Fora Vanderlei Luxemburgo! Fora Maurício Galiotte! Fora Vanderlei Luxemburgo! Fora Maur…\n",
      "** RT @Palmeiras: NOTA OFICIAL: Vanderlei Luxemburgo não é mais técnico do Palmeiras. Confira: http://bit.ly/Q1wis\n",
      "** RT @Rodrigo_SEP1914: Atenção! Detalhes da reunião na SEP:\n",
      "09:58 - Galliote: Vanderlei, estamos revalidando seu trabalho, precisa melhorar\n",
      "0…\n",
      "** RT @Jonathan_Anjos_: Você é a favor da demissão do técnico Vanderlei Luxemburgo?\n",
      "\n",
      "Joga o #RT\n"
     ]
    }
   ],
   "source": [
    "# Lista vazia para armanezar scores\n",
    "for tweet in tweets:\n",
    "    print('**',tweet.text)\n",
    "    analysis = tb(tweet.text)\n",
    "    polarity = analysis.sentiment.polarity\n",
    "    tweets_score.append(polarity)"
   ]
  },
  {
   "cell_type": "code",
   "execution_count": 27,
   "metadata": {},
   "outputs": [
    {
     "name": "stdout",
     "output_type": "stream",
     "text": [
      "Vetor de polaridade: [0.0, 0.0, 0.0, 0.0, 0.0, 0.0, 0.0, 0.0, 0.0, 0.0, 0.0625, 0.0, 0.0625, 0.0, 0.0, -0.375, 0.0, -0.375, 0.0, 0.0, 0.0, 0.0, 0.0, 0.0, 0.0, -0.375, 0.0, 0.0, 0.0, 0.0, -0.375, 0.0, 0.0, 0.0, 0.0, 0.0, 0.0, 0.0, 0.0, 0.0, 0.0, 0.0, 0.0, 0.0, 0.0, -0.375, 0.0, 0.0, 0.0, 0.0, 0.0, 0.0, 0.0, -0.375, 0.0, 0.0, 0.0, 0.0, 0.0, 0.0, 0.0, -0.375, -0.375, 0.0, 0.0, 0.0, 0.0, 0.0, 0.0, 0.0, -0.5, 0.0, 0.0, 0.0, -0.375, 0.0, 0.0, 0.0, 0.0, 0.0, 0.0, 0.0, 0.0, -0.375, 0.0, 0.0, 0.0, 0.0, 0.0, 0.0, 0.0, 0.0, 0.0, -0.375, 0.0, 0.0, 0.0, 0.0, 0.0, 0.0]\n"
     ]
    }
   ],
   "source": [
    "print('Vetor de polaridade:',tweets_score)"
   ]
  },
  {
   "cell_type": "code",
   "execution_count": 28,
   "metadata": {},
   "outputs": [
    {
     "name": "stdout",
     "output_type": "stream",
     "text": [
      "Média: -0.045\n"
     ]
    }
   ],
   "source": [
    "print('Média: ' + str(np.mean(tweets_score))) # a função mean() que faz parte do pacote numpy"
   ]
  },
  {
   "cell_type": "markdown",
   "metadata": {},
   "source": [
    "## Criar gráficos com a polaridade\n",
    "\n",
    "Vamos importa a biblioteca matplotlib"
   ]
  },
  {
   "cell_type": "code",
   "execution_count": 29,
   "metadata": {},
   "outputs": [],
   "source": [
    "# Importando o pacote\n",
    "\n",
    "import matplotlib.pyplot as plt"
   ]
  },
  {
   "cell_type": "code",
   "execution_count": 64,
   "metadata": {},
   "outputs": [
    {
     "data": {
      "text/plain": [
       "Text(0, 0.5, 'Polaridade dos Tweets')"
      ]
     },
     "execution_count": 64,
     "metadata": {},
     "output_type": "execute_result"
    },
    {
     "data": {
      "image/png": "[encoded data removed]",
      "text/plain": [
       "<Figure size 432x288 with 1 Axes>"
      ]
     },
     "metadata": {
      "needs_background": "light"
     },
     "output_type": "display_data"
    }
   ],
   "source": [
    "# Gráfico com a pontuação dos tweet coletados\n",
    "# Total de 100 tweets com sua variavel de polaridade ([-1 Negatvio] [0 Neutro] [1 Positivo])\n",
    "plt.hist(tweets_score)\n",
    "\n",
    "# Definindo titulo e legenda\n",
    "plt.title('Popularidade do Vanderlei Luxemburgo')\n",
    "plt.xlabel('Total de Tweets coletados')\n",
    "plt.ylabel('Polaridade dos Tweets')"
   ]
  }
 ],
 "metadata": {
  "kernelspec": {
   "display_name": "Python 3",
   "language": "python",
   "name": "python3"
  },
  "language_info": {
   "codemirror_mode": {
    "name": "ipython",
    "version": 3
   },
   "file_extension": ".py",
   "mimetype": "text/x-python",
   "name": "python",
   "nbconvert_exporter": "python",
   "pygments_lexer": "ipython3",
   "version": "3.7.1"
  }
 },
 "nbformat": 4,
 "nbformat_minor": 4
}
